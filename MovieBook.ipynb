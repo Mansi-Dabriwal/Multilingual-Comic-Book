{
 "cells": [
  {
   "cell_type": "markdown",
   "id": "75ca5e4c",
   "metadata": {},
   "source": [
    "### Function to compress Images"
   ]
  },
  {
   "cell_type": "code",
   "execution_count": 1,
   "id": "01185998",
   "metadata": {},
   "outputs": [],
   "source": [
    "def imgcompress_mem(img,k):\n",
    "\n",
    "    # set the ratio of resized image\n",
    "    width = int((img.shape[1])/k)\n",
    "    height = int((img.shape[0])/k)\n",
    "\n",
    "    # resize the image by resize() function of openCV library\n",
    "    return cv2.resize(img, (width, height), interpolation=cv2.INTER_AREA)\n",
    "\n",
    "# newimg = imgcompress_mem(images[26],5)\n",
    "# display(Image.fromarray(newimg))\n"
   ]
  },
  {
   "cell_type": "markdown",
   "id": "1efb3996",
   "metadata": {},
   "source": [
    "### Function to cartoonize Image"
   ]
  },
  {
   "cell_type": "code",
   "execution_count": 2,
   "id": "e6d9c3bf",
   "metadata": {},
   "outputs": [],
   "source": [
    "def cartoonizebl_mem(img, k, blur, line):\n",
    "    \n",
    "    imgc = imgcompress_mem(img, k)\n",
    "    #imgc_pil = cv2.cvtColor(imgc, cv2.COLOR_BGR2RGB) # Converting BGR to RGB\n",
    "    #display(Image.fromarray(imgc_pil))\n",
    "\n",
    "    line_size = line\n",
    "    blur_value = blur\n",
    "    #imgc = cv2.imread(path_out, cv2.IMREAD_UNCHANGED)\n",
    "    gray = cv2.cvtColor(imgc, cv2.COLOR_BGR2GRAY)\n",
    "    gray_blur = cv2.medianBlur(gray, blur_value)\n",
    "    bigedges = cv2.adaptiveThreshold(gray_blur, 255, cv2.ADAPTIVE_THRESH_MEAN_C, cv2.THRESH_BINARY, line_size, blur_value)\n",
    "    bigedges_pil = cv2.cvtColor(bigedges, cv2.COLOR_BGR2RGB) # Converting BGR to RGB\n",
    "    #display(Image.fromarray(bigedges_pil))\n",
    "\n",
    "    return cv2.bitwise_and(imgc, imgc, mask=bigedges)\n",
    "\n",
    "# newimg = cartoonizebl_mem(images[0], 5, 5, 11)\n",
    "# Image.fromarray(cblimg_pil_s1).save(\"dialogues/scene1_generated.jpg\")\n",
    "# # newimg = cv2.cvtColor(newimg, cv2.COLOR_BGR2RGB)\n",
    "# display(Image.fromarray(newimg))"
   ]
  },
  {
   "cell_type": "markdown",
   "id": "ec5d1828",
   "metadata": {},
   "source": [
    "### Function to add filler images and edits"
   ]
  },
  {
   "cell_type": "code",
   "execution_count": 3,
   "id": "e942989d",
   "metadata": {},
   "outputs": [
    {
     "data": {
      "text/plain": [
       "True"
      ]
     },
     "execution_count": 3,
     "metadata": {},
     "output_type": "execute_result"
    }
   ],
   "source": [
    "from PIL import Image, ImageDraw, ImageFont\n",
    "import cv2\n",
    "\n",
    "# Load the JPG photo\n",
    "photo = cv2.imread('draftphoto/44.jpeg')\n",
    "\n",
    "# Load the PNG fire emoji\n",
    "emoji = cv2.imread('data/fireemoji.png')\n",
    "\n",
    "# Define the size to resize the emoji\n",
    "new_emoji_width = 800  # Adjust this value as needed\n",
    "new_emoji_height = 800  # Adjust this value as needed\n",
    "\n",
    "# Resize the emoji\n",
    "emoji_resized = cv2.resize(emoji, (new_emoji_width, new_emoji_height))\n",
    "\n",
    "# Define a list of positions to paste the emoji\n",
    "positions = [(600, 100), (1660, 800), (1200, 1800),(100,600)]  # Add more positions as needed\n",
    "\n",
    "for x_offset, y_offset in positions:\n",
    "    photo[y_offset:y_offset + new_emoji_height, x_offset:x_offset + new_emoji_width] = emoji_resized\n",
    "\n",
    "# Save the modified photo\n",
    "cv2.imwrite('draftphoto/44.jpeg', photo)\n",
    "\n",
    "\n",
    "\n",
    "# Load the JPG photo\n",
    "photo = cv2.imread('draftphoto/18.jpeg')\n",
    "\n",
    "# Load the PNG fire emoji with transparency\n",
    "emoji_with_transparency = cv2.imread('data/robot.png', cv2.IMREAD_UNCHANGED)\n",
    "\n",
    "# Extract the emoji and alpha channel\n",
    "emoji = emoji_with_transparency[:, :, :3]\n",
    "alpha_channel = emoji_with_transparency[:, :, 3]\n",
    "\n",
    "# Define the size to resize the emoji\n",
    "new_emoji_width = 900  # Adjust this value as needed\n",
    "new_emoji_height = 900  # Adjust this value as needed\n",
    "\n",
    "# Resize the emoji\n",
    "emoji_resized = cv2.resize(emoji, (new_emoji_width, new_emoji_height))\n",
    "\n",
    "# Resize the alpha channel to match the resized emoji\n",
    "alpha_channel_resized = cv2.resize(alpha_channel, (new_emoji_width, new_emoji_height))\n",
    "\n",
    "# Merge the resized emoji and alpha channel\n",
    "emoji_with_alpha = cv2.merge((emoji_resized, alpha_channel_resized))\n",
    "\n",
    "# Define a list of positions to paste the emoji\n",
    "positions = [(600,200)]  # Add more positions as needed\n",
    "\n",
    "for x_offset, y_offset in positions:\n",
    "    # Overlay the emoji with transparency onto the photo\n",
    "    for c in range(3):\n",
    "        photo[y_offset:y_offset + new_emoji_height, x_offset:x_offset + new_emoji_width, c] = \\\n",
    "            emoji_with_alpha[:, :, c] * (emoji_with_alpha[:, :, 3] / 255.0) + \\\n",
    "            photo[y_offset:y_offset + new_emoji_height, x_offset:x_offset + new_emoji_width, c] * \\\n",
    "            (1.0 - emoji_with_alpha[:, :, 3] / 255.0)\n",
    "\n",
    "# Save the modified photo\n",
    "cv2.imwrite('draftphoto/18.jpeg', photo)\n"
   ]
  },
  {
   "cell_type": "code",
   "execution_count": 4,
   "id": "1aab0567",
   "metadata": {},
   "outputs": [],
   "source": [
    "from PIL import Image, ImageDraw, ImageFont\n",
    "import cv2\n",
    "\n",
    "def filler(lang,font):\n",
    "    if lang.lower()=='english':\n",
    "        text10 = \"Back in 2024\"\n",
    "        text01 = \"Year 5050 : Robots have taken over the human race\"\n",
    "        text11 = \"Some Past about how humanity ended in 2024!\"\n",
    "    elif lang.lower()=='hindi':\n",
    "        text10 = \"2024 में वापस\"\n",
    "        text01 = \"वर्ष 5050: रोबोटों ने मानव जाति पर कब्ज़ा कर लिया है\"\n",
    "        text11 = \"2024 में मानवता कैसे समाप्त हुई इसके बारे में कुछ अतीत!\"\n",
    "    elif lang.lower()=='chinese':\n",
    "        text10 = \"回到2024年\"\n",
    "        text01 = \"5050年：机器人接管了人类\"\n",
    "        text11 = \"关于人类如何在 2024 年终结的一些过去！\"\n",
    "            \n",
    "    # Create blank images with black background\n",
    "    width, height = 800, 400\n",
    "    background_color = (0, 0, 0)  # black\n",
    "    image10 = Image.new(\"RGB\", (width, height), background_color)\n",
    "    image11 = Image.new(\"RGB\", (width, height), background_color)\n",
    "    image01 = Image.new(\"RGB\", (width, height), background_color)\n",
    "\n",
    "    # Choose a font and size\n",
    "    font_size = 30\n",
    "    font_first = ImageFont.truetype(\"font/\"+font, font_size)\n",
    "\n",
    "    font_size_others = 25\n",
    "\n",
    "    font = ImageFont.truetype(\"font/\"+font, font_size_others)\n",
    "\n",
    "    # Text to be drawn\n",
    "    \n",
    "\n",
    "    # Calculate text size and position for image10\n",
    "    draw = ImageDraw.Draw(image10)\n",
    "    text_bbox10 = draw.textbbox((0, 0), text10, font=font_first)\n",
    "    x = (width - text_bbox10[2] - text_bbox10[0]) // 2\n",
    "    y = (height - text_bbox10[3] - text_bbox10[1]) // 2\n",
    "\n",
    "    # Draw text on image10\n",
    "    draw.text((x, y), text10, fill=\"yellow\", font=font_first)\n",
    "\n",
    "    # Save image10\n",
    "    image10.save(\"draftphoto/10.jpeg\")\n",
    "\n",
    "    # Calculate text size and position for image01\n",
    "    draw = ImageDraw.Draw(image01)\n",
    "    text_bbox01 = draw.textbbox((0, 0), text01, font=font)\n",
    "    x = (width - text_bbox01[2] - text_bbox01[0]) // 2\n",
    "    y = (height - text_bbox01[3] - text_bbox01[1]) // 2\n",
    "\n",
    "    # Draw text on image01\n",
    "    draw.text((x, y), text01, fill=\"yellow\", font=font)\n",
    "\n",
    "    # Save image01\n",
    "    image01.save(\"draftphoto/00.jpeg\")\n",
    "\n",
    "\n",
    "    # Calculate text size and position for image11\n",
    "    draw = ImageDraw.Draw(image11)\n",
    "    text_bbox11 = draw.textbbox((0, 0), text11, font=font_first)\n",
    "    x = (width - text_bbox11[2] - text_bbox11[0]) // 2\n",
    "    y = (height - text_bbox11[3] - text_bbox11[1]) // 2\n",
    "\n",
    "    # Draw text on image10\n",
    "    draw.text((x, y), text11, fill=\"yellow\", font=font_first)\n",
    "\n",
    "    # Save image10\n",
    "    image11.save(\"draftphoto/11.jpeg\")\n",
    "\n",
    "\n",
    "\n"
   ]
  },
  {
   "cell_type": "markdown",
   "id": "cb3503e9",
   "metadata": {},
   "source": [
    "### Function to add subtitles/caption on images"
   ]
  },
  {
   "cell_type": "code",
   "execution_count": 5,
   "id": "3dadc8bd",
   "metadata": {},
   "outputs": [],
   "source": [
    "import numpy as np\n",
    "def convert_from_pili_to_cv2(img: Image) -> np.ndarray:\n",
    "    return cv2.cvtColor(np.array(img), cv2.COLOR_RGB2BGR)\n",
    "def convert_from_cv2_to_pili(img: np.ndarray) -> Image:\n",
    "    return Image.fromarray(cv2.cvtColor(img, cv2.COLOR_BGR2RGB))"
   ]
  },
  {
   "cell_type": "code",
   "execution_count": 6,
   "id": "4fa6ac17",
   "metadata": {},
   "outputs": [],
   "source": [
    "# add dialogue\n",
    "# create csv\n",
    "# load csv: \n",
    "from PIL import Image as pili, ImageDraw as pild, ImageFont as pilf, ImageOps as piliops\n",
    "\n",
    "def dialogue(image, dialogue,font):\n",
    "#     print(type(image))\n",
    "    TINT_COLOR = (0, 0, 0)\n",
    "    FONT_COLOR = (254,237,92)\n",
    "    stroke_width = 1\n",
    "    font = 'font/'+font\n",
    "    k=8\n",
    "    text = dialogue\n",
    "    \n",
    "#     print('Using font ' + font + '...')\n",
    "    myfont = (\n",
    "        pilf.truetype(\"ITCKRIST.TTF\", \n",
    "            24 if k == 16 else 18 if k == 14 else 18 if k == 12 else 20 if k == 8 else 82) if font=='ITCKRIST'\n",
    "        else\n",
    "            pilf.truetype(\"Inkfree.ttf\", \n",
    "                24 if k == 16 else 18 if k == 14 else 18 if k == 12 else 20 if k == 8 else 82) if font=='Inkfree'\n",
    "        else\n",
    "            pilf.truetype(font + \".ttf\", 10 if k == 16 else 12 if k == 14 else 14 if k == 12 else 25 if k == 8 else 82)\n",
    "    )\n",
    "\n",
    "\n",
    "    cblimg_pil = Image.fromarray(cv2.cvtColor(image, cv2.COLOR_BGR2RGBA))\n",
    "\n",
    "    overlay = pili.new('RGBA', cblimg_pil.size, TINT_COLOR+(0,))\n",
    "\n",
    "\n",
    "    h = 10\n",
    "    nlines = 1\n",
    "    num_lines = nlines\n",
    "    y = 0.89 * cblimg_pil.height\n",
    "    x = 0.02 * cblimg_pil.width\n",
    "\n",
    "    draw = pild.Draw(cblimg_pil)\n",
    "\n",
    "    draw.text((x+10, y), text, font = myfont, fill=FONT_COLOR, stroke_width = stroke_width)\n",
    "\n",
    "    cblimg_pil = pili.alpha_composite(cblimg_pil, overlay)\n",
    "    cblimg_pil = convert_from_pili_to_cv2(cblimg_pil)\n",
    "    \n",
    "    return cblimg_pil\n",
    "\n",
    "# abc = dialogue(newimg,\"abc\")\n",
    "# print(type(convert_from_pili_to_cv2(abc)))\n",
    "# print(type(convert_from_cv2_to_pili(abc)))"
   ]
  },
  {
   "cell_type": "code",
   "execution_count": 7,
   "id": "30729c52",
   "metadata": {},
   "outputs": [],
   "source": [
    "import pandas as pd\n",
    "import glob\n",
    "def language(lang):\n",
    "    lang=lang\n",
    "    if lang.lower()=='english':\n",
    "        font = 'verdana'\n",
    "        lang = 'English'\n",
    "    elif lang.lower()=='hindi':\n",
    "        font = 'NirmalaS'\n",
    "        lang = 'Hindi'\n",
    "    elif lang.lower()=='chinese':\n",
    "        font = 'NotoSansSC-VariableFont_wght'\n",
    "        lang = 'Chinese'\n",
    "    all_frames = pd.read_csv(\"data/dialogues.csv\",encoding = \"utf-8\")\n",
    "    all_frames = all_frames.fillna(\"\")\n",
    "    all_frames = all_frames.astype({'Path': 'str', str(lang): 'str'})\n",
    "    \n",
    "    # all_frames = all_frames.astype({'path': 'str', 'dialogue': 'str'})\n",
    "    images = []\n",
    "    count=0\n",
    "    for loc in range(len(all_frames)):\n",
    "        newimg = cv2.cvtColor(cv2.imread(str(all_frames[\"Path\"][loc])),cv2.COLOR_BGR2RGB)\n",
    "\n",
    "        if str(all_frames[str(lang)][loc])!=\"TRUE\":\n",
    "            newimg = cartoonizebl_mem(newimg, 3, 5, 11)\n",
    "            newimg = dialogue(newimg,str(all_frames[lang][loc]),font)\n",
    "\n",
    "        images.append(newimg)\n",
    "\n",
    "    images = [cv2.resize(img,(2500,1500)) for img in images]\n",
    "    images = [cv2.copyMakeBorder(img,20, 20, 20, 20, cv2.BORDER_CONSTANT,value=[255,255,255]) for img in images]\n",
    "    return images\n",
    "\n",
    "\n",
    "# images = language('chinese')\n",
    "# display(Image.fromarray(images[3]))\n",
    "\n",
    "    \n",
    "    \n",
    "    "
   ]
  },
  {
   "cell_type": "markdown",
   "id": "e9e8e7e0",
   "metadata": {},
   "source": [
    "### Function to split image strips into pages"
   ]
  },
  {
   "cell_type": "code",
   "execution_count": 8,
   "id": "bf93aff9",
   "metadata": {},
   "outputs": [],
   "source": [
    "def splitepage(book):\n",
    "    pages = [book[i:i + 20] for i in range(0, len(book), 20)]\n",
    "#     print(len(pages))\n",
    "    \n",
    "    pg = 0\n",
    "    for p in pages:\n",
    "        spliterow(p,pg)\n",
    "        pg = pg+1\n"
   ]
  },
  {
   "cell_type": "code",
   "execution_count": 9,
   "id": "d859a28c",
   "metadata": {},
   "outputs": [],
   "source": [
    "import os\n",
    "def spliterow(onepage,num_page):\n",
    "    num_rows = 0\n",
    "    count = 0\n",
    "    while count<len(onepage):\n",
    "        rows = 20\n",
    "#         num_cols = np.random.randint(3, 6)\n",
    "        num_cols = 4\n",
    "        \n",
    "        row = onepage[count:count+num_cols]\n",
    "        #min_shape = sorted( [(np.sum(i.size), i.size ) for i in book])[0][1]\n",
    "        imgs_comb = np.hstack( i for i in row ) \n",
    "        \n",
    "        imgs_comb = PIL.Image.fromarray(imgs_comb)\n",
    "        \n",
    "        imgs_comb.save( ROWPATH + 'page'+str(num_page)+'row' + str(num_rows) +'.jpg' )\n",
    "        \n",
    "        count = count+num_cols\n",
    "        num_rows = num_rows+1"
   ]
  },
  {
   "cell_type": "markdown",
   "id": "132f026e",
   "metadata": {},
   "source": [
    "### Function to merge image scenes in pdf"
   ]
  },
  {
   "cell_type": "code",
   "execution_count": 10,
   "id": "99e804fd",
   "metadata": {},
   "outputs": [],
   "source": [
    "from PIL import Image\n",
    "from fpdf import FPDF\n",
    "import os\n",
    "\n",
    "def gen_pdf(lang):\n",
    "    imagelist = sorted(os.listdir(ROWPATH))[1:]\n",
    "\n",
    "    img = Image.open(ROWPATH + sorted(os.listdir(ROWPATH))[1])\n",
    "    width, height = img.size\n",
    "\n",
    "    pdf = FPDF(unit = \"pt\", format = [width, height*4])\n",
    "\n",
    "    # # imagelist is the list with all image filenames\n",
    "    # print(imagelist, height, width)\n",
    "\n",
    "    # imagelist = sorted(imagelist, key= lambda x: (int(x.split(\".\")[0])))\n",
    "    counter=0\n",
    "    for strip in imagelist:\n",
    "        if counter % 4 == 0:\n",
    "            pdf.add_page()\n",
    "            coord_y = 0\n",
    "        pdf.image(ROWPATH+ strip, 0, coord_y, width, height)\n",
    "        coord_y += height + 2\n",
    "        counter += 1\n",
    "    pdf.output(\"output/\"+lang+\"_comic.pdf\", \"F\")\n",
    "#     print(\"done!\")"
   ]
  },
  {
   "cell_type": "markdown",
   "id": "28be0ac6",
   "metadata": {},
   "source": [
    "### Running code to generate Comic in 3 languages"
   ]
  },
  {
   "cell_type": "code",
   "execution_count": 11,
   "id": "c3957e06",
   "metadata": {},
   "outputs": [
    {
     "name": "stderr",
     "output_type": "stream",
     "text": [
      "/var/folders/hn/gj3x27n954q7vnt5xfvrz_6h0000gn/T/ipykernel_41455/1516363273.py:12: FutureWarning: arrays to stack must be passed as a \"sequence\" type such as list or tuple. Support for non-sequence iterables such as generators is deprecated as of NumPy 1.16 and will raise an error in the future.\n",
      "  imgs_comb = np.hstack( i for i in row )\n"
     ]
    },
    {
     "name": "stdout",
     "output_type": "stream",
     "text": [
      "PDF Exported for language: english\n"
     ]
    },
    {
     "name": "stderr",
     "output_type": "stream",
     "text": [
      "/var/folders/hn/gj3x27n954q7vnt5xfvrz_6h0000gn/T/ipykernel_41455/1516363273.py:12: FutureWarning: arrays to stack must be passed as a \"sequence\" type such as list or tuple. Support for non-sequence iterables such as generators is deprecated as of NumPy 1.16 and will raise an error in the future.\n",
      "  imgs_comb = np.hstack( i for i in row )\n"
     ]
    },
    {
     "name": "stdout",
     "output_type": "stream",
     "text": [
      "PDF Exported for language: hindi\n"
     ]
    },
    {
     "name": "stderr",
     "output_type": "stream",
     "text": [
      "/var/folders/hn/gj3x27n954q7vnt5xfvrz_6h0000gn/T/ipykernel_41455/1516363273.py:12: FutureWarning: arrays to stack must be passed as a \"sequence\" type such as list or tuple. Support for non-sequence iterables such as generators is deprecated as of NumPy 1.16 and will raise an error in the future.\n",
      "  imgs_comb = np.hstack( i for i in row )\n"
     ]
    },
    {
     "name": "stdout",
     "output_type": "stream",
     "text": [
      "PDF Exported for language: chinese\n"
     ]
    }
   ],
   "source": [
    "import numpy as np\n",
    "import PIL\n",
    "import os\n",
    "\n",
    "languages = {'english' : 'verdana.ttf',\n",
    "             'hindi' : 'NirmalaS.ttf',\n",
    "             'chinese' : 'NotoSansSC-VariableFont_wght.ttf'}\n",
    "\n",
    "ROWPATH = 'rowcollection/'\n",
    "for lang in languages.keys():\n",
    "    filler(lang,languages[lang])\n",
    "    images = language(lang)  \n",
    "    splitepage(images)\n",
    "    gen_pdf(lang)\n",
    "    print(\"PDF Exported for language:\",lang)\n"
   ]
  }
 ],
 "metadata": {
  "kernelspec": {
   "display_name": "Python 3 (ipykernel)",
   "language": "python",
   "name": "python3"
  },
  "language_info": {
   "codemirror_mode": {
    "name": "ipython",
    "version": 3
   },
   "file_extension": ".py",
   "mimetype": "text/x-python",
   "name": "python",
   "nbconvert_exporter": "python",
   "pygments_lexer": "ipython3",
   "version": "3.11.5"
  }
 },
 "nbformat": 4,
 "nbformat_minor": 5
}
